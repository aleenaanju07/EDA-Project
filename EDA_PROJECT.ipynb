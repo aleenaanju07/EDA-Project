{
 "cells": [
  {
   "cell_type": "markdown",
   "metadata": {},
   "source": [
    "##  **EXPLORATORY DATA ANALYSIS IN PRODUCT SALES**"
   ]
  },
  {
   "cell_type": "markdown",
   "metadata": {},
   "source": [
    "I got a very beautiful data-set of Products and accesories from Kaggle. Just to give a small review of my dataset, it contains 113036 rows and 16 columns containing sales, order quantity, country.So in this data, we will explore the data and make it ready "
   ]
  },
  {
   "cell_type": "markdown",
   "metadata": {},
   "source": [
    "## 1. Importing Libraries"
   ]
  },
  {
   "cell_type": "markdown",
   "metadata": {},
   "source": [
    "Given below are the libraries that we require to work on this dataset."
   ]
  },
  {
   "cell_type": "code",
   "execution_count": 1,
   "metadata": {},
   "outputs": [],
   "source": [
    "import pandas as pd\n",
    "import numpy as np\n",
    "import seaborn as sns\n",
    "import matplotlib.pyplot as plt"
   ]
  },
  {
   "cell_type": "markdown",
   "metadata": {},
   "source": [
    "## 2. Load Data"
   ]
  },
  {
   "cell_type": "markdown",
   "metadata": {},
   "source": [
    "Now I will load the dataset into the notebook and get an overview of the first and last few rows of the dataset"
   ]
  },
  {
   "cell_type": "code",
   "execution_count": 2,
   "metadata": {},
   "outputs": [
    {
     "data": {
      "text/html": [
       "<div>\n",
       "<style scoped>\n",
       "    .dataframe tbody tr th:only-of-type {\n",
       "        vertical-align: middle;\n",
       "    }\n",
       "\n",
       "    .dataframe tbody tr th {\n",
       "        vertical-align: top;\n",
       "    }\n",
       "\n",
       "    .dataframe thead th {\n",
       "        text-align: right;\n",
       "    }\n",
       "</style>\n",
       "<table border=\"1\" class=\"dataframe\">\n",
       "  <thead>\n",
       "    <tr style=\"text-align: right;\">\n",
       "      <th></th>\n",
       "      <th>Date</th>\n",
       "      <th>Day</th>\n",
       "      <th>Month</th>\n",
       "      <th>Year</th>\n",
       "      <th>Customer_Age</th>\n",
       "      <th>Age_Group</th>\n",
       "      <th>Age_Group_NUMBER</th>\n",
       "      <th>Customer_Gender</th>\n",
       "      <th>Country</th>\n",
       "      <th>Product_Category</th>\n",
       "      <th>Order_Quantity</th>\n",
       "      <th>Unit_Cost</th>\n",
       "      <th>Unit_Price</th>\n",
       "      <th>Profit</th>\n",
       "      <th>Cost</th>\n",
       "      <th>Revenue</th>\n",
       "    </tr>\n",
       "  </thead>\n",
       "  <tbody>\n",
       "    <tr>\n",
       "      <th>0</th>\n",
       "      <td>01-01-17</td>\n",
       "      <td>1</td>\n",
       "      <td>January</td>\n",
       "      <td>2017</td>\n",
       "      <td>17</td>\n",
       "      <td>Youth (&lt;25)</td>\n",
       "      <td>1</td>\n",
       "      <td>M</td>\n",
       "      <td>canada</td>\n",
       "      <td>Bikes</td>\n",
       "      <td>2</td>\n",
       "      <td>1519.0</td>\n",
       "      <td>2443.0</td>\n",
       "      <td>1848.0</td>\n",
       "      <td>3038.0</td>\n",
       "      <td>4886.0</td>\n",
       "    </tr>\n",
       "    <tr>\n",
       "      <th>1</th>\n",
       "      <td>01-01-17</td>\n",
       "      <td>1</td>\n",
       "      <td>January</td>\n",
       "      <td>2017</td>\n",
       "      <td>23</td>\n",
       "      <td>Youth (&lt;25)</td>\n",
       "      <td>1</td>\n",
       "      <td>M</td>\n",
       "      <td>Australia</td>\n",
       "      <td>Bikes</td>\n",
       "      <td>2</td>\n",
       "      <td>1252.0</td>\n",
       "      <td>2295.0</td>\n",
       "      <td>2086.0</td>\n",
       "      <td>2504.0</td>\n",
       "      <td>4590.0</td>\n",
       "    </tr>\n",
       "    <tr>\n",
       "      <th>2</th>\n",
       "      <td>01-01-17</td>\n",
       "      <td>1</td>\n",
       "      <td>January</td>\n",
       "      <td>2017</td>\n",
       "      <td>33</td>\n",
       "      <td>Young Adults (25-34)</td>\n",
       "      <td>1</td>\n",
       "      <td>F</td>\n",
       "      <td>France</td>\n",
       "      <td>Bikes</td>\n",
       "      <td>2</td>\n",
       "      <td>2171.0</td>\n",
       "      <td>3578.0</td>\n",
       "      <td>2814.0</td>\n",
       "      <td>4342.0</td>\n",
       "      <td>7156.0</td>\n",
       "    </tr>\n",
       "    <tr>\n",
       "      <th>3</th>\n",
       "      <td>01-01-17</td>\n",
       "      <td>1</td>\n",
       "      <td>January</td>\n",
       "      <td>2017</td>\n",
       "      <td>39</td>\n",
       "      <td>Adults (35-64)</td>\n",
       "      <td>1</td>\n",
       "      <td>M</td>\n",
       "      <td>United States</td>\n",
       "      <td>Bikes</td>\n",
       "      <td>2</td>\n",
       "      <td>713.0</td>\n",
       "      <td>1120.0</td>\n",
       "      <td>814.0</td>\n",
       "      <td>1426.0</td>\n",
       "      <td>2240.0</td>\n",
       "    </tr>\n",
       "    <tr>\n",
       "      <th>4</th>\n",
       "      <td>01-01-17</td>\n",
       "      <td>1</td>\n",
       "      <td>January</td>\n",
       "      <td>2017</td>\n",
       "      <td>42</td>\n",
       "      <td>Adults (35-64)</td>\n",
       "      <td>1</td>\n",
       "      <td>M</td>\n",
       "      <td>United States</td>\n",
       "      <td>Bikes</td>\n",
       "      <td>2</td>\n",
       "      <td>344.0</td>\n",
       "      <td>540.0</td>\n",
       "      <td>392.0</td>\n",
       "      <td>688.0</td>\n",
       "      <td>1080.0</td>\n",
       "    </tr>\n",
       "    <tr>\n",
       "      <th>...</th>\n",
       "      <td>...</td>\n",
       "      <td>...</td>\n",
       "      <td>...</td>\n",
       "      <td>...</td>\n",
       "      <td>...</td>\n",
       "      <td>...</td>\n",
       "      <td>...</td>\n",
       "      <td>...</td>\n",
       "      <td>...</td>\n",
       "      <td>...</td>\n",
       "      <td>...</td>\n",
       "      <td>...</td>\n",
       "      <td>...</td>\n",
       "      <td>...</td>\n",
       "      <td>...</td>\n",
       "      <td>...</td>\n",
       "    </tr>\n",
       "    <tr>\n",
       "      <th>113031</th>\n",
       "      <td>31-12-21</td>\n",
       "      <td>31</td>\n",
       "      <td>December</td>\n",
       "      <td>2021</td>\n",
       "      <td>52</td>\n",
       "      <td>Adults (35-64)</td>\n",
       "      <td>1</td>\n",
       "      <td>F</td>\n",
       "      <td>United Kingdom</td>\n",
       "      <td>Bikes</td>\n",
       "      <td>2</td>\n",
       "      <td>1555.0</td>\n",
       "      <td>2443.0</td>\n",
       "      <td>1776.0</td>\n",
       "      <td>3110.0</td>\n",
       "      <td>4886.0</td>\n",
       "    </tr>\n",
       "    <tr>\n",
       "      <th>113032</th>\n",
       "      <td>31-12-21</td>\n",
       "      <td>31</td>\n",
       "      <td>December</td>\n",
       "      <td>2021</td>\n",
       "      <td>25</td>\n",
       "      <td>Young Adults (25-34)</td>\n",
       "      <td>1</td>\n",
       "      <td>F</td>\n",
       "      <td>Germany</td>\n",
       "      <td>Bikes</td>\n",
       "      <td>1</td>\n",
       "      <td>713.0</td>\n",
       "      <td>1120.0</td>\n",
       "      <td>407.0</td>\n",
       "      <td>713.0</td>\n",
       "      <td>1120.0</td>\n",
       "    </tr>\n",
       "    <tr>\n",
       "      <th>113033</th>\n",
       "      <td>31-12-21</td>\n",
       "      <td>31</td>\n",
       "      <td>December</td>\n",
       "      <td>2021</td>\n",
       "      <td>26</td>\n",
       "      <td>Young Adults (25-34)</td>\n",
       "      <td>1</td>\n",
       "      <td>M</td>\n",
       "      <td>Australia</td>\n",
       "      <td>Bikes</td>\n",
       "      <td>1</td>\n",
       "      <td>713.0</td>\n",
       "      <td>1120.0</td>\n",
       "      <td>407.0</td>\n",
       "      <td>713.0</td>\n",
       "      <td>1120.0</td>\n",
       "    </tr>\n",
       "    <tr>\n",
       "      <th>113034</th>\n",
       "      <td>31-12-21</td>\n",
       "      <td>31</td>\n",
       "      <td>December</td>\n",
       "      <td>2021</td>\n",
       "      <td>33</td>\n",
       "      <td>Young Adults (25-34)</td>\n",
       "      <td>1</td>\n",
       "      <td>F</td>\n",
       "      <td>Australia</td>\n",
       "      <td>Bikes</td>\n",
       "      <td>1</td>\n",
       "      <td>1252.0</td>\n",
       "      <td>2295.0</td>\n",
       "      <td>1043.0</td>\n",
       "      <td>1252.0</td>\n",
       "      <td>2295.0</td>\n",
       "    </tr>\n",
       "    <tr>\n",
       "      <th>113035</th>\n",
       "      <td>31-12-21</td>\n",
       "      <td>31</td>\n",
       "      <td>December</td>\n",
       "      <td>2021</td>\n",
       "      <td>44</td>\n",
       "      <td>Adults (35-64)</td>\n",
       "      <td>1</td>\n",
       "      <td>M</td>\n",
       "      <td>Australia</td>\n",
       "      <td>Bikes</td>\n",
       "      <td>1</td>\n",
       "      <td>713.0</td>\n",
       "      <td>1120.0</td>\n",
       "      <td>407.0</td>\n",
       "      <td>713.0</td>\n",
       "      <td>1120.0</td>\n",
       "    </tr>\n",
       "  </tbody>\n",
       "</table>\n",
       "<p>113036 rows × 16 columns</p>\n",
       "</div>"
      ],
      "text/plain": [
       "            Date  Day     Month  Year  Customer_Age             Age_Group  \\\n",
       "0       01-01-17    1   January  2017            17           Youth (<25)   \n",
       "1       01-01-17    1   January  2017            23           Youth (<25)   \n",
       "2       01-01-17    1   January  2017            33  Young Adults (25-34)   \n",
       "3       01-01-17    1   January  2017            39        Adults (35-64)   \n",
       "4       01-01-17    1   January  2017            42        Adults (35-64)   \n",
       "...          ...  ...       ...   ...           ...                   ...   \n",
       "113031  31-12-21   31  December  2021            52        Adults (35-64)   \n",
       "113032  31-12-21   31  December  2021            25  Young Adults (25-34)   \n",
       "113033  31-12-21   31  December  2021            26  Young Adults (25-34)   \n",
       "113034  31-12-21   31  December  2021            33  Young Adults (25-34)   \n",
       "113035  31-12-21   31  December  2021            44        Adults (35-64)   \n",
       "\n",
       "        Age_Group_NUMBER Customer_Gender         Country Product_Category  \\\n",
       "0                      1               M          canada            Bikes   \n",
       "1                      1               M       Australia            Bikes   \n",
       "2                      1               F          France            Bikes   \n",
       "3                      1               M   United States            Bikes   \n",
       "4                      1               M   United States            Bikes   \n",
       "...                  ...             ...             ...              ...   \n",
       "113031                 1               F  United Kingdom            Bikes   \n",
       "113032                 1               F         Germany            Bikes   \n",
       "113033                 1               M       Australia            Bikes   \n",
       "113034                 1               F       Australia            Bikes   \n",
       "113035                 1               M       Australia            Bikes   \n",
       "\n",
       "        Order_Quantity  Unit_Cost  Unit_Price  Profit    Cost  Revenue  \n",
       "0                    2     1519.0      2443.0  1848.0  3038.0   4886.0  \n",
       "1                    2     1252.0      2295.0  2086.0  2504.0   4590.0  \n",
       "2                    2     2171.0      3578.0  2814.0  4342.0   7156.0  \n",
       "3                    2      713.0      1120.0   814.0  1426.0   2240.0  \n",
       "4                    2      344.0       540.0   392.0   688.0   1080.0  \n",
       "...                ...        ...         ...     ...     ...      ...  \n",
       "113031               2     1555.0      2443.0  1776.0  3110.0   4886.0  \n",
       "113032               1      713.0      1120.0   407.0   713.0   1120.0  \n",
       "113033               1      713.0      1120.0   407.0   713.0   1120.0  \n",
       "113034               1     1252.0      2295.0  1043.0  1252.0   2295.0  \n",
       "113035               1      713.0      1120.0   407.0   713.0   1120.0  \n",
       "\n",
       "[113036 rows x 16 columns]"
      ]
     },
     "execution_count": 2,
     "metadata": {},
     "output_type": "execute_result"
    }
   ],
   "source": [
    "a=pd.read_csv(r'E:\\DATASCIENCE\\MYPROJECTS\\EDA\\PRODUCT SALES.csv')\n",
    "a"
   ]
  },
  {
   "cell_type": "markdown",
   "metadata": {},
   "source": [
    "## 3. Describe the data"
   ]
  },
  {
   "cell_type": "markdown",
   "metadata": {},
   "source": [
    "we will get the average of every items in our data that we explore"
   ]
  },
  {
   "cell_type": "code",
   "execution_count": 3,
   "metadata": {},
   "outputs": [
    {
     "data": {
      "text/html": [
       "<div>\n",
       "<style scoped>\n",
       "    .dataframe tbody tr th:only-of-type {\n",
       "        vertical-align: middle;\n",
       "    }\n",
       "\n",
       "    .dataframe tbody tr th {\n",
       "        vertical-align: top;\n",
       "    }\n",
       "\n",
       "    .dataframe thead th {\n",
       "        text-align: right;\n",
       "    }\n",
       "</style>\n",
       "<table border=\"1\" class=\"dataframe\">\n",
       "  <thead>\n",
       "    <tr style=\"text-align: right;\">\n",
       "      <th></th>\n",
       "      <th>Day</th>\n",
       "      <th>Year</th>\n",
       "      <th>Customer_Age</th>\n",
       "      <th>Age_Group_NUMBER</th>\n",
       "      <th>Order_Quantity</th>\n",
       "      <th>Unit_Cost</th>\n",
       "      <th>Unit_Price</th>\n",
       "      <th>Profit</th>\n",
       "      <th>Cost</th>\n",
       "      <th>Revenue</th>\n",
       "    </tr>\n",
       "  </thead>\n",
       "  <tbody>\n",
       "    <tr>\n",
       "      <th>count</th>\n",
       "      <td>113036.000000</td>\n",
       "      <td>113036.000000</td>\n",
       "      <td>113036.000000</td>\n",
       "      <td>113036.0</td>\n",
       "      <td>113036.000000</td>\n",
       "      <td>113036.000000</td>\n",
       "      <td>113036.000000</td>\n",
       "      <td>113036.000000</td>\n",
       "      <td>113036.000000</td>\n",
       "      <td>113036.000000</td>\n",
       "    </tr>\n",
       "    <tr>\n",
       "      <th>mean</th>\n",
       "      <td>15.665753</td>\n",
       "      <td>2019.520153</td>\n",
       "      <td>35.919212</td>\n",
       "      <td>1.0</td>\n",
       "      <td>11.901660</td>\n",
       "      <td>267.296366</td>\n",
       "      <td>452.938427</td>\n",
       "      <td>372.681358</td>\n",
       "      <td>469.318695</td>\n",
       "      <td>842.000053</td>\n",
       "    </tr>\n",
       "    <tr>\n",
       "      <th>std</th>\n",
       "      <td>8.781567</td>\n",
       "      <td>1.179704</td>\n",
       "      <td>11.021936</td>\n",
       "      <td>0.0</td>\n",
       "      <td>9.561857</td>\n",
       "      <td>549.835483</td>\n",
       "      <td>922.071219</td>\n",
       "      <td>595.080571</td>\n",
       "      <td>884.866118</td>\n",
       "      <td>1466.202934</td>\n",
       "    </tr>\n",
       "    <tr>\n",
       "      <th>min</th>\n",
       "      <td>1.000000</td>\n",
       "      <td>2017.000000</td>\n",
       "      <td>17.000000</td>\n",
       "      <td>1.0</td>\n",
       "      <td>1.000000</td>\n",
       "      <td>1.000000</td>\n",
       "      <td>2.000000</td>\n",
       "      <td>1.000000</td>\n",
       "      <td>1.000000</td>\n",
       "      <td>2.000000</td>\n",
       "    </tr>\n",
       "    <tr>\n",
       "      <th>25%</th>\n",
       "      <td>8.000000</td>\n",
       "      <td>2019.000000</td>\n",
       "      <td>28.000000</td>\n",
       "      <td>1.0</td>\n",
       "      <td>2.000000</td>\n",
       "      <td>2.000000</td>\n",
       "      <td>5.000000</td>\n",
       "      <td>39.000000</td>\n",
       "      <td>28.000000</td>\n",
       "      <td>70.000000</td>\n",
       "    </tr>\n",
       "    <tr>\n",
       "      <th>50%</th>\n",
       "      <td>16.000000</td>\n",
       "      <td>2019.500000</td>\n",
       "      <td>35.000000</td>\n",
       "      <td>1.0</td>\n",
       "      <td>10.000000</td>\n",
       "      <td>9.000000</td>\n",
       "      <td>24.000000</td>\n",
       "      <td>135.000000</td>\n",
       "      <td>108.000000</td>\n",
       "      <td>245.000000</td>\n",
       "    </tr>\n",
       "    <tr>\n",
       "      <th>75%</th>\n",
       "      <td>23.000000</td>\n",
       "      <td>2021.000000</td>\n",
       "      <td>43.000000</td>\n",
       "      <td>1.0</td>\n",
       "      <td>20.000000</td>\n",
       "      <td>42.000000</td>\n",
       "      <td>70.000000</td>\n",
       "      <td>432.000000</td>\n",
       "      <td>432.000000</td>\n",
       "      <td>880.000000</td>\n",
       "    </tr>\n",
       "    <tr>\n",
       "      <th>max</th>\n",
       "      <td>31.000000</td>\n",
       "      <td>2021.000000</td>\n",
       "      <td>87.000000</td>\n",
       "      <td>1.0</td>\n",
       "      <td>32.000000</td>\n",
       "      <td>2171.000000</td>\n",
       "      <td>3578.000000</td>\n",
       "      <td>26158.000000</td>\n",
       "      <td>42978.000000</td>\n",
       "      <td>69136.000000</td>\n",
       "    </tr>\n",
       "  </tbody>\n",
       "</table>\n",
       "</div>"
      ],
      "text/plain": [
       "                 Day           Year   Customer_Age  Age_Group_NUMBER  \\\n",
       "count  113036.000000  113036.000000  113036.000000          113036.0   \n",
       "mean       15.665753    2019.520153      35.919212               1.0   \n",
       "std         8.781567       1.179704      11.021936               0.0   \n",
       "min         1.000000    2017.000000      17.000000               1.0   \n",
       "25%         8.000000    2019.000000      28.000000               1.0   \n",
       "50%        16.000000    2019.500000      35.000000               1.0   \n",
       "75%        23.000000    2021.000000      43.000000               1.0   \n",
       "max        31.000000    2021.000000      87.000000               1.0   \n",
       "\n",
       "       Order_Quantity      Unit_Cost     Unit_Price         Profit  \\\n",
       "count   113036.000000  113036.000000  113036.000000  113036.000000   \n",
       "mean        11.901660     267.296366     452.938427     372.681358   \n",
       "std          9.561857     549.835483     922.071219     595.080571   \n",
       "min          1.000000       1.000000       2.000000       1.000000   \n",
       "25%          2.000000       2.000000       5.000000      39.000000   \n",
       "50%         10.000000       9.000000      24.000000     135.000000   \n",
       "75%         20.000000      42.000000      70.000000     432.000000   \n",
       "max         32.000000    2171.000000    3578.000000   26158.000000   \n",
       "\n",
       "                Cost        Revenue  \n",
       "count  113036.000000  113036.000000  \n",
       "mean      469.318695     842.000053  \n",
       "std       884.866118    1466.202934  \n",
       "min         1.000000       2.000000  \n",
       "25%        28.000000      70.000000  \n",
       "50%       108.000000     245.000000  \n",
       "75%       432.000000     880.000000  \n",
       "max     42978.000000   69136.000000  "
      ]
     },
     "execution_count": 3,
     "metadata": {},
     "output_type": "execute_result"
    }
   ],
   "source": [
    "a.describe()"
   ]
  },
  {
   "cell_type": "markdown",
   "metadata": {},
   "source": [
    "## 4. Basic Information"
   ]
  },
  {
   "cell_type": "markdown",
   "metadata": {},
   "source": [
    "Just to get the basic information regarding the dataset"
   ]
  },
  {
   "cell_type": "code",
   "execution_count": 4,
   "metadata": {},
   "outputs": [
    {
     "name": "stdout",
     "output_type": "stream",
     "text": [
      "<class 'pandas.core.frame.DataFrame'>\n",
      "RangeIndex: 113036 entries, 0 to 113035\n",
      "Data columns (total 16 columns):\n",
      " #   Column            Non-Null Count   Dtype  \n",
      "---  ------            --------------   -----  \n",
      " 0   Date              113036 non-null  object \n",
      " 1   Day               113036 non-null  int64  \n",
      " 2   Month             113036 non-null  object \n",
      " 3   Year              113036 non-null  int64  \n",
      " 4   Customer_Age      113036 non-null  int64  \n",
      " 5   Age_Group         113036 non-null  object \n",
      " 6   Age_Group_NUMBER  113036 non-null  int64  \n",
      " 7   Customer_Gender   113036 non-null  object \n",
      " 8   Country           113036 non-null  object \n",
      " 9   Product_Category  113036 non-null  object \n",
      " 10  Order_Quantity    113036 non-null  int64  \n",
      " 11  Unit_Cost         113036 non-null  float64\n",
      " 12  Unit_Price        113036 non-null  float64\n",
      " 13  Profit            113036 non-null  float64\n",
      " 14  Cost              113036 non-null  float64\n",
      " 15  Revenue           113036 non-null  float64\n",
      "dtypes: float64(5), int64(5), object(6)\n",
      "memory usage: 13.8+ MB\n"
     ]
    }
   ],
   "source": [
    "a.info()"
   ]
  },
  {
   "cell_type": "markdown",
   "metadata": {},
   "source": [
    "#First five numbers"
   ]
  },
  {
   "cell_type": "code",
   "execution_count": 5,
   "metadata": {},
   "outputs": [
    {
     "data": {
      "text/html": [
       "<div>\n",
       "<style scoped>\n",
       "    .dataframe tbody tr th:only-of-type {\n",
       "        vertical-align: middle;\n",
       "    }\n",
       "\n",
       "    .dataframe tbody tr th {\n",
       "        vertical-align: top;\n",
       "    }\n",
       "\n",
       "    .dataframe thead th {\n",
       "        text-align: right;\n",
       "    }\n",
       "</style>\n",
       "<table border=\"1\" class=\"dataframe\">\n",
       "  <thead>\n",
       "    <tr style=\"text-align: right;\">\n",
       "      <th></th>\n",
       "      <th>Date</th>\n",
       "      <th>Day</th>\n",
       "      <th>Month</th>\n",
       "      <th>Year</th>\n",
       "      <th>Customer_Age</th>\n",
       "      <th>Age_Group</th>\n",
       "      <th>Age_Group_NUMBER</th>\n",
       "      <th>Customer_Gender</th>\n",
       "      <th>Country</th>\n",
       "      <th>Product_Category</th>\n",
       "      <th>Order_Quantity</th>\n",
       "      <th>Unit_Cost</th>\n",
       "      <th>Unit_Price</th>\n",
       "      <th>Profit</th>\n",
       "      <th>Cost</th>\n",
       "      <th>Revenue</th>\n",
       "    </tr>\n",
       "  </thead>\n",
       "  <tbody>\n",
       "    <tr>\n",
       "      <th>0</th>\n",
       "      <td>01-01-17</td>\n",
       "      <td>1</td>\n",
       "      <td>January</td>\n",
       "      <td>2017</td>\n",
       "      <td>17</td>\n",
       "      <td>Youth (&lt;25)</td>\n",
       "      <td>1</td>\n",
       "      <td>M</td>\n",
       "      <td>canada</td>\n",
       "      <td>Bikes</td>\n",
       "      <td>2</td>\n",
       "      <td>1519.0</td>\n",
       "      <td>2443.0</td>\n",
       "      <td>1848.0</td>\n",
       "      <td>3038.0</td>\n",
       "      <td>4886.0</td>\n",
       "    </tr>\n",
       "    <tr>\n",
       "      <th>1</th>\n",
       "      <td>01-01-17</td>\n",
       "      <td>1</td>\n",
       "      <td>January</td>\n",
       "      <td>2017</td>\n",
       "      <td>23</td>\n",
       "      <td>Youth (&lt;25)</td>\n",
       "      <td>1</td>\n",
       "      <td>M</td>\n",
       "      <td>Australia</td>\n",
       "      <td>Bikes</td>\n",
       "      <td>2</td>\n",
       "      <td>1252.0</td>\n",
       "      <td>2295.0</td>\n",
       "      <td>2086.0</td>\n",
       "      <td>2504.0</td>\n",
       "      <td>4590.0</td>\n",
       "    </tr>\n",
       "    <tr>\n",
       "      <th>2</th>\n",
       "      <td>01-01-17</td>\n",
       "      <td>1</td>\n",
       "      <td>January</td>\n",
       "      <td>2017</td>\n",
       "      <td>33</td>\n",
       "      <td>Young Adults (25-34)</td>\n",
       "      <td>1</td>\n",
       "      <td>F</td>\n",
       "      <td>France</td>\n",
       "      <td>Bikes</td>\n",
       "      <td>2</td>\n",
       "      <td>2171.0</td>\n",
       "      <td>3578.0</td>\n",
       "      <td>2814.0</td>\n",
       "      <td>4342.0</td>\n",
       "      <td>7156.0</td>\n",
       "    </tr>\n",
       "    <tr>\n",
       "      <th>3</th>\n",
       "      <td>01-01-17</td>\n",
       "      <td>1</td>\n",
       "      <td>January</td>\n",
       "      <td>2017</td>\n",
       "      <td>39</td>\n",
       "      <td>Adults (35-64)</td>\n",
       "      <td>1</td>\n",
       "      <td>M</td>\n",
       "      <td>United States</td>\n",
       "      <td>Bikes</td>\n",
       "      <td>2</td>\n",
       "      <td>713.0</td>\n",
       "      <td>1120.0</td>\n",
       "      <td>814.0</td>\n",
       "      <td>1426.0</td>\n",
       "      <td>2240.0</td>\n",
       "    </tr>\n",
       "    <tr>\n",
       "      <th>4</th>\n",
       "      <td>01-01-17</td>\n",
       "      <td>1</td>\n",
       "      <td>January</td>\n",
       "      <td>2017</td>\n",
       "      <td>42</td>\n",
       "      <td>Adults (35-64)</td>\n",
       "      <td>1</td>\n",
       "      <td>M</td>\n",
       "      <td>United States</td>\n",
       "      <td>Bikes</td>\n",
       "      <td>2</td>\n",
       "      <td>344.0</td>\n",
       "      <td>540.0</td>\n",
       "      <td>392.0</td>\n",
       "      <td>688.0</td>\n",
       "      <td>1080.0</td>\n",
       "    </tr>\n",
       "  </tbody>\n",
       "</table>\n",
       "</div>"
      ],
      "text/plain": [
       "       Date  Day    Month  Year  Customer_Age             Age_Group  \\\n",
       "0  01-01-17    1  January  2017            17           Youth (<25)   \n",
       "1  01-01-17    1  January  2017            23           Youth (<25)   \n",
       "2  01-01-17    1  January  2017            33  Young Adults (25-34)   \n",
       "3  01-01-17    1  January  2017            39        Adults (35-64)   \n",
       "4  01-01-17    1  January  2017            42        Adults (35-64)   \n",
       "\n",
       "   Age_Group_NUMBER Customer_Gender        Country Product_Category  \\\n",
       "0                 1               M         canada            Bikes   \n",
       "1                 1               M      Australia            Bikes   \n",
       "2                 1               F         France            Bikes   \n",
       "3                 1               M  United States            Bikes   \n",
       "4                 1               M  United States            Bikes   \n",
       "\n",
       "   Order_Quantity  Unit_Cost  Unit_Price  Profit    Cost  Revenue  \n",
       "0               2     1519.0      2443.0  1848.0  3038.0   4886.0  \n",
       "1               2     1252.0      2295.0  2086.0  2504.0   4590.0  \n",
       "2               2     2171.0      3578.0  2814.0  4342.0   7156.0  \n",
       "3               2      713.0      1120.0   814.0  1426.0   2240.0  \n",
       "4               2      344.0       540.0   392.0   688.0   1080.0  "
      ]
     },
     "execution_count": 5,
     "metadata": {},
     "output_type": "execute_result"
    }
   ],
   "source": [
    "a.head()"
   ]
  },
  {
   "cell_type": "markdown",
   "metadata": {},
   "source": [
    "Last five numbers"
   ]
  },
  {
   "cell_type": "code",
   "execution_count": 6,
   "metadata": {},
   "outputs": [
    {
     "data": {
      "text/html": [
       "<div>\n",
       "<style scoped>\n",
       "    .dataframe tbody tr th:only-of-type {\n",
       "        vertical-align: middle;\n",
       "    }\n",
       "\n",
       "    .dataframe tbody tr th {\n",
       "        vertical-align: top;\n",
       "    }\n",
       "\n",
       "    .dataframe thead th {\n",
       "        text-align: right;\n",
       "    }\n",
       "</style>\n",
       "<table border=\"1\" class=\"dataframe\">\n",
       "  <thead>\n",
       "    <tr style=\"text-align: right;\">\n",
       "      <th></th>\n",
       "      <th>Date</th>\n",
       "      <th>Day</th>\n",
       "      <th>Month</th>\n",
       "      <th>Year</th>\n",
       "      <th>Customer_Age</th>\n",
       "      <th>Age_Group</th>\n",
       "      <th>Age_Group_NUMBER</th>\n",
       "      <th>Customer_Gender</th>\n",
       "      <th>Country</th>\n",
       "      <th>Product_Category</th>\n",
       "      <th>Order_Quantity</th>\n",
       "      <th>Unit_Cost</th>\n",
       "      <th>Unit_Price</th>\n",
       "      <th>Profit</th>\n",
       "      <th>Cost</th>\n",
       "      <th>Revenue</th>\n",
       "    </tr>\n",
       "  </thead>\n",
       "  <tbody>\n",
       "    <tr>\n",
       "      <th>113031</th>\n",
       "      <td>31-12-21</td>\n",
       "      <td>31</td>\n",
       "      <td>December</td>\n",
       "      <td>2021</td>\n",
       "      <td>52</td>\n",
       "      <td>Adults (35-64)</td>\n",
       "      <td>1</td>\n",
       "      <td>F</td>\n",
       "      <td>United Kingdom</td>\n",
       "      <td>Bikes</td>\n",
       "      <td>2</td>\n",
       "      <td>1555.0</td>\n",
       "      <td>2443.0</td>\n",
       "      <td>1776.0</td>\n",
       "      <td>3110.0</td>\n",
       "      <td>4886.0</td>\n",
       "    </tr>\n",
       "    <tr>\n",
       "      <th>113032</th>\n",
       "      <td>31-12-21</td>\n",
       "      <td>31</td>\n",
       "      <td>December</td>\n",
       "      <td>2021</td>\n",
       "      <td>25</td>\n",
       "      <td>Young Adults (25-34)</td>\n",
       "      <td>1</td>\n",
       "      <td>F</td>\n",
       "      <td>Germany</td>\n",
       "      <td>Bikes</td>\n",
       "      <td>1</td>\n",
       "      <td>713.0</td>\n",
       "      <td>1120.0</td>\n",
       "      <td>407.0</td>\n",
       "      <td>713.0</td>\n",
       "      <td>1120.0</td>\n",
       "    </tr>\n",
       "    <tr>\n",
       "      <th>113033</th>\n",
       "      <td>31-12-21</td>\n",
       "      <td>31</td>\n",
       "      <td>December</td>\n",
       "      <td>2021</td>\n",
       "      <td>26</td>\n",
       "      <td>Young Adults (25-34)</td>\n",
       "      <td>1</td>\n",
       "      <td>M</td>\n",
       "      <td>Australia</td>\n",
       "      <td>Bikes</td>\n",
       "      <td>1</td>\n",
       "      <td>713.0</td>\n",
       "      <td>1120.0</td>\n",
       "      <td>407.0</td>\n",
       "      <td>713.0</td>\n",
       "      <td>1120.0</td>\n",
       "    </tr>\n",
       "    <tr>\n",
       "      <th>113034</th>\n",
       "      <td>31-12-21</td>\n",
       "      <td>31</td>\n",
       "      <td>December</td>\n",
       "      <td>2021</td>\n",
       "      <td>33</td>\n",
       "      <td>Young Adults (25-34)</td>\n",
       "      <td>1</td>\n",
       "      <td>F</td>\n",
       "      <td>Australia</td>\n",
       "      <td>Bikes</td>\n",
       "      <td>1</td>\n",
       "      <td>1252.0</td>\n",
       "      <td>2295.0</td>\n",
       "      <td>1043.0</td>\n",
       "      <td>1252.0</td>\n",
       "      <td>2295.0</td>\n",
       "    </tr>\n",
       "    <tr>\n",
       "      <th>113035</th>\n",
       "      <td>31-12-21</td>\n",
       "      <td>31</td>\n",
       "      <td>December</td>\n",
       "      <td>2021</td>\n",
       "      <td>44</td>\n",
       "      <td>Adults (35-64)</td>\n",
       "      <td>1</td>\n",
       "      <td>M</td>\n",
       "      <td>Australia</td>\n",
       "      <td>Bikes</td>\n",
       "      <td>1</td>\n",
       "      <td>713.0</td>\n",
       "      <td>1120.0</td>\n",
       "      <td>407.0</td>\n",
       "      <td>713.0</td>\n",
       "      <td>1120.0</td>\n",
       "    </tr>\n",
       "  </tbody>\n",
       "</table>\n",
       "</div>"
      ],
      "text/plain": [
       "            Date  Day     Month  Year  Customer_Age             Age_Group  \\\n",
       "113031  31-12-21   31  December  2021            52        Adults (35-64)   \n",
       "113032  31-12-21   31  December  2021            25  Young Adults (25-34)   \n",
       "113033  31-12-21   31  December  2021            26  Young Adults (25-34)   \n",
       "113034  31-12-21   31  December  2021            33  Young Adults (25-34)   \n",
       "113035  31-12-21   31  December  2021            44        Adults (35-64)   \n",
       "\n",
       "        Age_Group_NUMBER Customer_Gender         Country Product_Category  \\\n",
       "113031                 1               F  United Kingdom            Bikes   \n",
       "113032                 1               F         Germany            Bikes   \n",
       "113033                 1               M       Australia            Bikes   \n",
       "113034                 1               F       Australia            Bikes   \n",
       "113035                 1               M       Australia            Bikes   \n",
       "\n",
       "        Order_Quantity  Unit_Cost  Unit_Price  Profit    Cost  Revenue  \n",
       "113031               2     1555.0      2443.0  1776.0  3110.0   4886.0  \n",
       "113032               1      713.0      1120.0   407.0   713.0   1120.0  \n",
       "113033               1      713.0      1120.0   407.0   713.0   1120.0  \n",
       "113034               1     1252.0      2295.0  1043.0  1252.0   2295.0  \n",
       "113035               1      713.0      1120.0   407.0   713.0   1120.0  "
      ]
     },
     "execution_count": 6,
     "metadata": {},
     "output_type": "execute_result"
    }
   ],
   "source": [
    "a.tail()"
   ]
  },
  {
   "cell_type": "markdown",
   "metadata": {},
   "source": [
    "## 5. Checking Datatype"
   ]
  },
  {
   "cell_type": "markdown",
   "metadata": {},
   "source": [
    "To determine the type of each column for graph plotting."
   ]
  },
  {
   "cell_type": "code",
   "execution_count": 7,
   "metadata": {},
   "outputs": [
    {
     "data": {
      "text/plain": [
       "Date                 object\n",
       "Day                   int64\n",
       "Month                object\n",
       "Year                  int64\n",
       "Customer_Age          int64\n",
       "Age_Group            object\n",
       "Age_Group_NUMBER      int64\n",
       "Customer_Gender      object\n",
       "Country              object\n",
       "Product_Category     object\n",
       "Order_Quantity        int64\n",
       "Unit_Cost           float64\n",
       "Unit_Price          float64\n",
       "Profit              float64\n",
       "Cost                float64\n",
       "Revenue             float64\n",
       "dtype: object"
      ]
     },
     "execution_count": 7,
     "metadata": {},
     "output_type": "execute_result"
    }
   ],
   "source": [
    "a.dtypes"
   ]
  },
  {
   "cell_type": "markdown",
   "metadata": {},
   "source": [
    "# 6. Shapes"
   ]
  },
  {
   "cell_type": "markdown",
   "metadata": {},
   "source": [
    "We get the shape of the data"
   ]
  },
  {
   "cell_type": "code",
   "execution_count": 8,
   "metadata": {},
   "outputs": [
    {
     "data": {
      "text/plain": [
       "(113036, 16)"
      ]
     },
     "execution_count": 8,
     "metadata": {},
     "output_type": "execute_result"
    }
   ],
   "source": [
    "a.shape"
   ]
  },
  {
   "cell_type": "markdown",
   "metadata": {},
   "source": [
    "# 7. Counts "
   ]
  },
  {
   "cell_type": "markdown",
   "metadata": {},
   "source": [
    "Here we will get the count"
   ]
  },
  {
   "cell_type": "code",
   "execution_count": 9,
   "metadata": {},
   "outputs": [
    {
     "data": {
      "text/plain": [
       "Date                113036\n",
       "Day                 113036\n",
       "Month               113036\n",
       "Year                113036\n",
       "Customer_Age        113036\n",
       "Age_Group           113036\n",
       "Age_Group_NUMBER    113036\n",
       "Customer_Gender     113036\n",
       "Country             113036\n",
       "Product_Category    113036\n",
       "Order_Quantity      113036\n",
       "Unit_Cost           113036\n",
       "Unit_Price          113036\n",
       "Profit              113036\n",
       "Cost                113036\n",
       "Revenue             113036\n",
       "dtype: int64"
      ]
     },
     "execution_count": 9,
     "metadata": {},
     "output_type": "execute_result"
    }
   ],
   "source": [
    "a.count()"
   ]
  },
  {
   "cell_type": "markdown",
   "metadata": {},
   "source": [
    "## 8. Searching & Dropping Duplicate Rows"
   ]
  },
  {
   "cell_type": "markdown",
   "metadata": {},
   "source": [
    "We will get the duplicates from here , we can clear the dups from this data"
   ]
  },
  {
   "cell_type": "code",
   "execution_count": 10,
   "metadata": {},
   "outputs": [
    {
     "data": {
      "text/plain": [
       "0         False\n",
       "1         False\n",
       "2         False\n",
       "3         False\n",
       "4         False\n",
       "          ...  \n",
       "113031    False\n",
       "113032    False\n",
       "113033    False\n",
       "113034    False\n",
       "113035    False\n",
       "Length: 113036, dtype: bool"
      ]
     },
     "execution_count": 10,
     "metadata": {},
     "output_type": "execute_result"
    }
   ],
   "source": [
    "a.duplicated()"
   ]
  },
  {
   "cell_type": "markdown",
   "metadata": {},
   "source": [
    "## 9. Drop Missing or Null Values"
   ]
  },
  {
   "cell_type": "markdown",
   "metadata": {},
   "source": [
    "The idea of this step is to drop any missing values that are found in the data. So first let's check for any missing value."
   ]
  },
  {
   "cell_type": "code",
   "execution_count": 11,
   "metadata": {},
   "outputs": [
    {
     "data": {
      "text/plain": [
       "Date                0\n",
       "Day                 0\n",
       "Month               0\n",
       "Year                0\n",
       "Customer_Age        0\n",
       "Age_Group           0\n",
       "Age_Group_NUMBER    0\n",
       "Customer_Gender     0\n",
       "Country             0\n",
       "Product_Category    0\n",
       "Order_Quantity      0\n",
       "Unit_Cost           0\n",
       "Unit_Price          0\n",
       "Profit              0\n",
       "Cost                0\n",
       "Revenue             0\n",
       "dtype: int64"
      ]
     },
     "execution_count": 11,
     "metadata": {},
     "output_type": "execute_result"
    }
   ],
   "source": [
    "a.isnull().sum()"
   ]
  },
  {
   "cell_type": "markdown",
   "metadata": {},
   "source": [
    "## 10. Rename Columns"
   ]
  },
  {
   "cell_type": "markdown",
   "metadata": {},
   "source": [
    "Renaming columns for better understanding."
   ]
  },
  {
   "cell_type": "code",
   "execution_count": 12,
   "metadata": {},
   "outputs": [
    {
     "data": {
      "text/html": [
       "<div>\n",
       "<style scoped>\n",
       "    .dataframe tbody tr th:only-of-type {\n",
       "        vertical-align: middle;\n",
       "    }\n",
       "\n",
       "    .dataframe tbody tr th {\n",
       "        vertical-align: top;\n",
       "    }\n",
       "\n",
       "    .dataframe thead th {\n",
       "        text-align: right;\n",
       "    }\n",
       "</style>\n",
       "<table border=\"1\" class=\"dataframe\">\n",
       "  <thead>\n",
       "    <tr style=\"text-align: right;\">\n",
       "      <th></th>\n",
       "      <th>Date</th>\n",
       "      <th>Day</th>\n",
       "      <th>Month</th>\n",
       "      <th>Year</th>\n",
       "      <th>Customer_Age</th>\n",
       "      <th>Age_Group</th>\n",
       "      <th>Age_Group_NUMBER</th>\n",
       "      <th>Gender</th>\n",
       "      <th>Country</th>\n",
       "      <th>Product_Category</th>\n",
       "      <th>Order_Quantity</th>\n",
       "      <th>Unit_Cost</th>\n",
       "      <th>Unit_Price</th>\n",
       "      <th>Profit</th>\n",
       "      <th>Cost</th>\n",
       "      <th>Revenue</th>\n",
       "    </tr>\n",
       "  </thead>\n",
       "  <tbody>\n",
       "    <tr>\n",
       "      <th>0</th>\n",
       "      <td>01-01-17</td>\n",
       "      <td>1</td>\n",
       "      <td>January</td>\n",
       "      <td>2017</td>\n",
       "      <td>17</td>\n",
       "      <td>Youth (&lt;25)</td>\n",
       "      <td>1</td>\n",
       "      <td>M</td>\n",
       "      <td>canada</td>\n",
       "      <td>Bikes</td>\n",
       "      <td>2</td>\n",
       "      <td>1519.0</td>\n",
       "      <td>2443.0</td>\n",
       "      <td>1848.0</td>\n",
       "      <td>3038.0</td>\n",
       "      <td>4886.0</td>\n",
       "    </tr>\n",
       "    <tr>\n",
       "      <th>1</th>\n",
       "      <td>01-01-17</td>\n",
       "      <td>1</td>\n",
       "      <td>January</td>\n",
       "      <td>2017</td>\n",
       "      <td>23</td>\n",
       "      <td>Youth (&lt;25)</td>\n",
       "      <td>1</td>\n",
       "      <td>M</td>\n",
       "      <td>Australia</td>\n",
       "      <td>Bikes</td>\n",
       "      <td>2</td>\n",
       "      <td>1252.0</td>\n",
       "      <td>2295.0</td>\n",
       "      <td>2086.0</td>\n",
       "      <td>2504.0</td>\n",
       "      <td>4590.0</td>\n",
       "    </tr>\n",
       "    <tr>\n",
       "      <th>2</th>\n",
       "      <td>01-01-17</td>\n",
       "      <td>1</td>\n",
       "      <td>January</td>\n",
       "      <td>2017</td>\n",
       "      <td>33</td>\n",
       "      <td>Young Adults (25-34)</td>\n",
       "      <td>1</td>\n",
       "      <td>F</td>\n",
       "      <td>France</td>\n",
       "      <td>Bikes</td>\n",
       "      <td>2</td>\n",
       "      <td>2171.0</td>\n",
       "      <td>3578.0</td>\n",
       "      <td>2814.0</td>\n",
       "      <td>4342.0</td>\n",
       "      <td>7156.0</td>\n",
       "    </tr>\n",
       "    <tr>\n",
       "      <th>3</th>\n",
       "      <td>01-01-17</td>\n",
       "      <td>1</td>\n",
       "      <td>January</td>\n",
       "      <td>2017</td>\n",
       "      <td>39</td>\n",
       "      <td>Adults (35-64)</td>\n",
       "      <td>1</td>\n",
       "      <td>M</td>\n",
       "      <td>United States</td>\n",
       "      <td>Bikes</td>\n",
       "      <td>2</td>\n",
       "      <td>713.0</td>\n",
       "      <td>1120.0</td>\n",
       "      <td>814.0</td>\n",
       "      <td>1426.0</td>\n",
       "      <td>2240.0</td>\n",
       "    </tr>\n",
       "    <tr>\n",
       "      <th>4</th>\n",
       "      <td>01-01-17</td>\n",
       "      <td>1</td>\n",
       "      <td>January</td>\n",
       "      <td>2017</td>\n",
       "      <td>42</td>\n",
       "      <td>Adults (35-64)</td>\n",
       "      <td>1</td>\n",
       "      <td>M</td>\n",
       "      <td>United States</td>\n",
       "      <td>Bikes</td>\n",
       "      <td>2</td>\n",
       "      <td>344.0</td>\n",
       "      <td>540.0</td>\n",
       "      <td>392.0</td>\n",
       "      <td>688.0</td>\n",
       "      <td>1080.0</td>\n",
       "    </tr>\n",
       "    <tr>\n",
       "      <th>...</th>\n",
       "      <td>...</td>\n",
       "      <td>...</td>\n",
       "      <td>...</td>\n",
       "      <td>...</td>\n",
       "      <td>...</td>\n",
       "      <td>...</td>\n",
       "      <td>...</td>\n",
       "      <td>...</td>\n",
       "      <td>...</td>\n",
       "      <td>...</td>\n",
       "      <td>...</td>\n",
       "      <td>...</td>\n",
       "      <td>...</td>\n",
       "      <td>...</td>\n",
       "      <td>...</td>\n",
       "      <td>...</td>\n",
       "    </tr>\n",
       "    <tr>\n",
       "      <th>113031</th>\n",
       "      <td>31-12-21</td>\n",
       "      <td>31</td>\n",
       "      <td>December</td>\n",
       "      <td>2021</td>\n",
       "      <td>52</td>\n",
       "      <td>Adults (35-64)</td>\n",
       "      <td>1</td>\n",
       "      <td>F</td>\n",
       "      <td>United Kingdom</td>\n",
       "      <td>Bikes</td>\n",
       "      <td>2</td>\n",
       "      <td>1555.0</td>\n",
       "      <td>2443.0</td>\n",
       "      <td>1776.0</td>\n",
       "      <td>3110.0</td>\n",
       "      <td>4886.0</td>\n",
       "    </tr>\n",
       "    <tr>\n",
       "      <th>113032</th>\n",
       "      <td>31-12-21</td>\n",
       "      <td>31</td>\n",
       "      <td>December</td>\n",
       "      <td>2021</td>\n",
       "      <td>25</td>\n",
       "      <td>Young Adults (25-34)</td>\n",
       "      <td>1</td>\n",
       "      <td>F</td>\n",
       "      <td>Germany</td>\n",
       "      <td>Bikes</td>\n",
       "      <td>1</td>\n",
       "      <td>713.0</td>\n",
       "      <td>1120.0</td>\n",
       "      <td>407.0</td>\n",
       "      <td>713.0</td>\n",
       "      <td>1120.0</td>\n",
       "    </tr>\n",
       "    <tr>\n",
       "      <th>113033</th>\n",
       "      <td>31-12-21</td>\n",
       "      <td>31</td>\n",
       "      <td>December</td>\n",
       "      <td>2021</td>\n",
       "      <td>26</td>\n",
       "      <td>Young Adults (25-34)</td>\n",
       "      <td>1</td>\n",
       "      <td>M</td>\n",
       "      <td>Australia</td>\n",
       "      <td>Bikes</td>\n",
       "      <td>1</td>\n",
       "      <td>713.0</td>\n",
       "      <td>1120.0</td>\n",
       "      <td>407.0</td>\n",
       "      <td>713.0</td>\n",
       "      <td>1120.0</td>\n",
       "    </tr>\n",
       "    <tr>\n",
       "      <th>113034</th>\n",
       "      <td>31-12-21</td>\n",
       "      <td>31</td>\n",
       "      <td>December</td>\n",
       "      <td>2021</td>\n",
       "      <td>33</td>\n",
       "      <td>Young Adults (25-34)</td>\n",
       "      <td>1</td>\n",
       "      <td>F</td>\n",
       "      <td>Australia</td>\n",
       "      <td>Bikes</td>\n",
       "      <td>1</td>\n",
       "      <td>1252.0</td>\n",
       "      <td>2295.0</td>\n",
       "      <td>1043.0</td>\n",
       "      <td>1252.0</td>\n",
       "      <td>2295.0</td>\n",
       "    </tr>\n",
       "    <tr>\n",
       "      <th>113035</th>\n",
       "      <td>31-12-21</td>\n",
       "      <td>31</td>\n",
       "      <td>December</td>\n",
       "      <td>2021</td>\n",
       "      <td>44</td>\n",
       "      <td>Adults (35-64)</td>\n",
       "      <td>1</td>\n",
       "      <td>M</td>\n",
       "      <td>Australia</td>\n",
       "      <td>Bikes</td>\n",
       "      <td>1</td>\n",
       "      <td>713.0</td>\n",
       "      <td>1120.0</td>\n",
       "      <td>407.0</td>\n",
       "      <td>713.0</td>\n",
       "      <td>1120.0</td>\n",
       "    </tr>\n",
       "  </tbody>\n",
       "</table>\n",
       "<p>113036 rows × 16 columns</p>\n",
       "</div>"
      ],
      "text/plain": [
       "            Date  Day     Month  Year  Customer_Age             Age_Group  \\\n",
       "0       01-01-17    1   January  2017            17           Youth (<25)   \n",
       "1       01-01-17    1   January  2017            23           Youth (<25)   \n",
       "2       01-01-17    1   January  2017            33  Young Adults (25-34)   \n",
       "3       01-01-17    1   January  2017            39        Adults (35-64)   \n",
       "4       01-01-17    1   January  2017            42        Adults (35-64)   \n",
       "...          ...  ...       ...   ...           ...                   ...   \n",
       "113031  31-12-21   31  December  2021            52        Adults (35-64)   \n",
       "113032  31-12-21   31  December  2021            25  Young Adults (25-34)   \n",
       "113033  31-12-21   31  December  2021            26  Young Adults (25-34)   \n",
       "113034  31-12-21   31  December  2021            33  Young Adults (25-34)   \n",
       "113035  31-12-21   31  December  2021            44        Adults (35-64)   \n",
       "\n",
       "        Age_Group_NUMBER Gender         Country Product_Category  \\\n",
       "0                      1      M          canada            Bikes   \n",
       "1                      1      M       Australia            Bikes   \n",
       "2                      1      F          France            Bikes   \n",
       "3                      1      M   United States            Bikes   \n",
       "4                      1      M   United States            Bikes   \n",
       "...                  ...    ...             ...              ...   \n",
       "113031                 1      F  United Kingdom            Bikes   \n",
       "113032                 1      F         Germany            Bikes   \n",
       "113033                 1      M       Australia            Bikes   \n",
       "113034                 1      F       Australia            Bikes   \n",
       "113035                 1      M       Australia            Bikes   \n",
       "\n",
       "        Order_Quantity  Unit_Cost  Unit_Price  Profit    Cost  Revenue  \n",
       "0                    2     1519.0      2443.0  1848.0  3038.0   4886.0  \n",
       "1                    2     1252.0      2295.0  2086.0  2504.0   4590.0  \n",
       "2                    2     2171.0      3578.0  2814.0  4342.0   7156.0  \n",
       "3                    2      713.0      1120.0   814.0  1426.0   2240.0  \n",
       "4                    2      344.0       540.0   392.0   688.0   1080.0  \n",
       "...                ...        ...         ...     ...     ...      ...  \n",
       "113031               2     1555.0      2443.0  1776.0  3110.0   4886.0  \n",
       "113032               1      713.0      1120.0   407.0   713.0   1120.0  \n",
       "113033               1      713.0      1120.0   407.0   713.0   1120.0  \n",
       "113034               1     1252.0      2295.0  1043.0  1252.0   2295.0  \n",
       "113035               1      713.0      1120.0   407.0   713.0   1120.0  \n",
       "\n",
       "[113036 rows x 16 columns]"
      ]
     },
     "execution_count": 12,
     "metadata": {},
     "output_type": "execute_result"
    }
   ],
   "source": [
    "a.rename(columns={'Customer_Gender':'Gender'},inplace=True)\n",
    "a"
   ]
  },
  {
   "cell_type": "markdown",
   "metadata": {},
   "source": [
    "## 11. Exploring Data"
   ]
  },
  {
   "cell_type": "markdown",
   "metadata": {},
   "source": [
    "Now we go deep into the analysis of our data. The analysis involves sorting and grouping and filtering of items "
   ]
  },
  {
   "cell_type": "markdown",
   "metadata": {},
   "source": [
    "Here we find count the unique products."
   ]
  },
  {
   "cell_type": "code",
   "execution_count": 13,
   "metadata": {},
   "outputs": [
    {
     "data": {
      "text/plain": [
       "3"
      ]
     },
     "execution_count": 13,
     "metadata": {},
     "output_type": "execute_result"
    }
   ],
   "source": [
    "a['Product_Category'].nunique()"
   ]
  },
  {
   "cell_type": "markdown",
   "metadata": {},
   "source": [
    "Finding unique products."
   ]
  },
  {
   "cell_type": "code",
   "execution_count": 14,
   "metadata": {},
   "outputs": [
    {
     "data": {
      "text/plain": [
       "array(['Bikes', 'Accessories', 'Clothing'], dtype=object)"
      ]
     },
     "execution_count": 14,
     "metadata": {},
     "output_type": "execute_result"
    }
   ],
   "source": [
    "a['Product_Category'].unique()"
   ]
  },
  {
   "cell_type": "markdown",
   "metadata": {},
   "source": [
    "Here we get the highest profit happened in this data"
   ]
  },
  {
   "cell_type": "code",
   "execution_count": 15,
   "metadata": {},
   "outputs": [
    {
     "data": {
      "text/html": [
       "<div>\n",
       "<style scoped>\n",
       "    .dataframe tbody tr th:only-of-type {\n",
       "        vertical-align: middle;\n",
       "    }\n",
       "\n",
       "    .dataframe tbody tr th {\n",
       "        vertical-align: top;\n",
       "    }\n",
       "\n",
       "    .dataframe thead th {\n",
       "        text-align: right;\n",
       "    }\n",
       "</style>\n",
       "<table border=\"1\" class=\"dataframe\">\n",
       "  <thead>\n",
       "    <tr style=\"text-align: right;\">\n",
       "      <th></th>\n",
       "      <th>Date</th>\n",
       "      <th>Day</th>\n",
       "      <th>Month</th>\n",
       "      <th>Year</th>\n",
       "      <th>Customer_Age</th>\n",
       "      <th>Age_Group</th>\n",
       "      <th>Age_Group_NUMBER</th>\n",
       "      <th>Gender</th>\n",
       "      <th>Country</th>\n",
       "      <th>Product_Category</th>\n",
       "      <th>Order_Quantity</th>\n",
       "      <th>Unit_Cost</th>\n",
       "      <th>Unit_Price</th>\n",
       "      <th>Profit</th>\n",
       "      <th>Cost</th>\n",
       "      <th>Revenue</th>\n",
       "    </tr>\n",
       "  </thead>\n",
       "  <tbody>\n",
       "    <tr>\n",
       "      <th>59276</th>\n",
       "      <td>24-07-20</td>\n",
       "      <td>24</td>\n",
       "      <td>July</td>\n",
       "      <td>2020</td>\n",
       "      <td>52</td>\n",
       "      <td>Adults (35-64)</td>\n",
       "      <td>1</td>\n",
       "      <td>M</td>\n",
       "      <td>Australia</td>\n",
       "      <td>Clothing</td>\n",
       "      <td>29</td>\n",
       "      <td>1482.0</td>\n",
       "      <td>2384.0</td>\n",
       "      <td>26158.0</td>\n",
       "      <td>42978.0</td>\n",
       "      <td>69136.0</td>\n",
       "    </tr>\n",
       "  </tbody>\n",
       "</table>\n",
       "</div>"
      ],
      "text/plain": [
       "           Date  Day Month  Year  Customer_Age       Age_Group  \\\n",
       "59276  24-07-20   24  July  2020            52  Adults (35-64)   \n",
       "\n",
       "       Age_Group_NUMBER Gender    Country Product_Category  Order_Quantity  \\\n",
       "59276                 1      M  Australia         Clothing              29   \n",
       "\n",
       "       Unit_Cost  Unit_Price   Profit     Cost  Revenue  \n",
       "59276     1482.0      2384.0  26158.0  42978.0  69136.0  "
      ]
     },
     "execution_count": 15,
     "metadata": {},
     "output_type": "execute_result"
    }
   ],
   "source": [
    "q=a.sort_values(['Profit']).tail(1)\n",
    "q"
   ]
  },
  {
   "cell_type": "markdown",
   "metadata": {},
   "source": [
    "# 12. Grouping data"
   ]
  },
  {
   "cell_type": "markdown",
   "metadata": {},
   "source": [
    "In order to group data, we pass an argument in groupby function ans we group a data of Name using groupby() function. we got the products and profit happened in the data"
   ]
  },
  {
   "cell_type": "code",
   "execution_count": 16,
   "metadata": {},
   "outputs": [
    {
     "data": {
      "text/plain": [
       "Product_Category\n",
       "Accessories    10457031.0\n",
       "Bikes          27945338.0\n",
       "Clothing        3724041.0\n",
       "Name: Profit, dtype: float64"
      ]
     },
     "execution_count": 16,
     "metadata": {},
     "output_type": "execute_result"
    }
   ],
   "source": [
    "a.groupby(['Product_Category'])['Profit'].sum()"
   ]
  },
  {
   "cell_type": "markdown",
   "metadata": {},
   "source": [
    "grouping and find the most sold product."
   ]
  },
  {
   "cell_type": "code",
   "execution_count": 17,
   "metadata": {},
   "outputs": [
    {
     "data": {
      "text/plain": [
       "'Bikes'"
      ]
     },
     "execution_count": 17,
     "metadata": {},
     "output_type": "execute_result"
    }
   ],
   "source": [
    "a.groupby('Product_Category')['Unit_Cost'].sum().idxmax()"
   ]
  },
  {
   "cell_type": "markdown",
   "metadata": {},
   "source": [
    "grouping and find the minimum sold product."
   ]
  },
  {
   "cell_type": "code",
   "execution_count": 18,
   "metadata": {},
   "outputs": [
    {
     "data": {
      "text/plain": [
       "'Clothing'"
      ]
     },
     "execution_count": 18,
     "metadata": {},
     "output_type": "execute_result"
    }
   ],
   "source": [
    "a.groupby('Product_Category')['Unit_Cost'].sum().idxmin()"
   ]
  },
  {
   "cell_type": "markdown",
   "metadata": {},
   "source": [
    "Here we get which country has most sales happened."
   ]
  },
  {
   "cell_type": "code",
   "execution_count": 19,
   "metadata": {},
   "outputs": [
    {
     "data": {
      "text/plain": [
       "'United States'"
      ]
     },
     "execution_count": 19,
     "metadata": {},
     "output_type": "execute_result"
    }
   ],
   "source": [
    "a.groupby('Country')['Profit'].sum().idxmax()"
   ]
  },
  {
   "cell_type": "markdown",
   "metadata": {},
   "source": [
    "Here we get which country has minimum sales happened."
   ]
  },
  {
   "cell_type": "code",
   "execution_count": 20,
   "metadata": {},
   "outputs": [
    {
     "data": {
      "text/plain": [
       "'canada'"
      ]
     },
     "execution_count": 20,
     "metadata": {},
     "output_type": "execute_result"
    }
   ],
   "source": [
    "a.groupby('Country')['Profit'].sum().idxmin()"
   ]
  },
  {
   "cell_type": "markdown",
   "metadata": {},
   "source": [
    "Here it is the largest Revenue happened"
   ]
  },
  {
   "cell_type": "code",
   "execution_count": 21,
   "metadata": {},
   "outputs": [
    {
     "data": {
      "text/html": [
       "<div>\n",
       "<style scoped>\n",
       "    .dataframe tbody tr th:only-of-type {\n",
       "        vertical-align: middle;\n",
       "    }\n",
       "\n",
       "    .dataframe tbody tr th {\n",
       "        vertical-align: top;\n",
       "    }\n",
       "\n",
       "    .dataframe thead th {\n",
       "        text-align: right;\n",
       "    }\n",
       "</style>\n",
       "<table border=\"1\" class=\"dataframe\">\n",
       "  <thead>\n",
       "    <tr style=\"text-align: right;\">\n",
       "      <th></th>\n",
       "      <th>Date</th>\n",
       "      <th>Day</th>\n",
       "      <th>Month</th>\n",
       "      <th>Year</th>\n",
       "      <th>Customer_Age</th>\n",
       "      <th>Age_Group</th>\n",
       "      <th>Age_Group_NUMBER</th>\n",
       "      <th>Gender</th>\n",
       "      <th>Country</th>\n",
       "      <th>Product_Category</th>\n",
       "      <th>Order_Quantity</th>\n",
       "      <th>Unit_Cost</th>\n",
       "      <th>Unit_Price</th>\n",
       "      <th>Profit</th>\n",
       "      <th>Cost</th>\n",
       "      <th>Revenue</th>\n",
       "    </tr>\n",
       "  </thead>\n",
       "  <tbody>\n",
       "    <tr>\n",
       "      <th>59276</th>\n",
       "      <td>24-07-20</td>\n",
       "      <td>24</td>\n",
       "      <td>July</td>\n",
       "      <td>2020</td>\n",
       "      <td>52</td>\n",
       "      <td>Adults (35-64)</td>\n",
       "      <td>1</td>\n",
       "      <td>M</td>\n",
       "      <td>Australia</td>\n",
       "      <td>Clothing</td>\n",
       "      <td>29</td>\n",
       "      <td>1482.0</td>\n",
       "      <td>2384.0</td>\n",
       "      <td>26158.0</td>\n",
       "      <td>42978.0</td>\n",
       "      <td>69136.0</td>\n",
       "    </tr>\n",
       "  </tbody>\n",
       "</table>\n",
       "</div>"
      ],
      "text/plain": [
       "           Date  Day Month  Year  Customer_Age       Age_Group  \\\n",
       "59276  24-07-20   24  July  2020            52  Adults (35-64)   \n",
       "\n",
       "       Age_Group_NUMBER Gender    Country Product_Category  Order_Quantity  \\\n",
       "59276                 1      M  Australia         Clothing              29   \n",
       "\n",
       "       Unit_Cost  Unit_Price   Profit     Cost  Revenue  \n",
       "59276     1482.0      2384.0  26158.0  42978.0  69136.0  "
      ]
     },
     "execution_count": 21,
     "metadata": {},
     "output_type": "execute_result"
    }
   ],
   "source": [
    "a.sort_values(['Revenue']).tail(1)"
   ]
  },
  {
   "cell_type": "markdown",
   "metadata": {},
   "source": [
    "# 13. Filtering"
   ]
  },
  {
   "cell_type": "markdown",
   "metadata": {},
   "source": [
    "find the quatity ordered between two ranges using \"&\"(and) also we use \"|\" (or) in this filtering"
   ]
  },
  {
   "cell_type": "code",
   "execution_count": 41,
   "metadata": {},
   "outputs": [
    {
     "data": {
      "text/html": [
       "<div>\n",
       "<style scoped>\n",
       "    .dataframe tbody tr th:only-of-type {\n",
       "        vertical-align: middle;\n",
       "    }\n",
       "\n",
       "    .dataframe tbody tr th {\n",
       "        vertical-align: top;\n",
       "    }\n",
       "\n",
       "    .dataframe thead th {\n",
       "        text-align: right;\n",
       "    }\n",
       "</style>\n",
       "<table border=\"1\" class=\"dataframe\">\n",
       "  <thead>\n",
       "    <tr style=\"text-align: right;\">\n",
       "      <th></th>\n",
       "      <th>Date</th>\n",
       "      <th>Day</th>\n",
       "      <th>Month</th>\n",
       "      <th>Year</th>\n",
       "      <th>Customer_Age</th>\n",
       "      <th>Age_Group</th>\n",
       "      <th>Age_Group_NUMBER</th>\n",
       "      <th>Gender</th>\n",
       "      <th>Country</th>\n",
       "      <th>Product_Category</th>\n",
       "      <th>Order_Quantity</th>\n",
       "      <th>Unit_Cost</th>\n",
       "      <th>Unit_Price</th>\n",
       "      <th>Profit</th>\n",
       "      <th>Cost</th>\n",
       "      <th>Revenue</th>\n",
       "    </tr>\n",
       "  </thead>\n",
       "  <tbody>\n",
       "    <tr>\n",
       "      <th>1</th>\n",
       "      <td>01-01-17</td>\n",
       "      <td>1</td>\n",
       "      <td>January</td>\n",
       "      <td>2017</td>\n",
       "      <td>23</td>\n",
       "      <td>Youth (&lt;25)</td>\n",
       "      <td>1</td>\n",
       "      <td>M</td>\n",
       "      <td>Australia</td>\n",
       "      <td>Bikes</td>\n",
       "      <td>2</td>\n",
       "      <td>1252.0</td>\n",
       "      <td>2295.0</td>\n",
       "      <td>2086.0</td>\n",
       "      <td>2504.0</td>\n",
       "      <td>4590.0</td>\n",
       "    </tr>\n",
       "    <tr>\n",
       "      <th>2</th>\n",
       "      <td>01-01-17</td>\n",
       "      <td>1</td>\n",
       "      <td>January</td>\n",
       "      <td>2017</td>\n",
       "      <td>33</td>\n",
       "      <td>Young Adults (25-34)</td>\n",
       "      <td>1</td>\n",
       "      <td>F</td>\n",
       "      <td>France</td>\n",
       "      <td>Bikes</td>\n",
       "      <td>2</td>\n",
       "      <td>2171.0</td>\n",
       "      <td>3578.0</td>\n",
       "      <td>2814.0</td>\n",
       "      <td>4342.0</td>\n",
       "      <td>7156.0</td>\n",
       "    </tr>\n",
       "    <tr>\n",
       "      <th>12</th>\n",
       "      <td>03-01-17</td>\n",
       "      <td>3</td>\n",
       "      <td>January</td>\n",
       "      <td>2017</td>\n",
       "      <td>39</td>\n",
       "      <td>Adults (35-64)</td>\n",
       "      <td>1</td>\n",
       "      <td>F</td>\n",
       "      <td>United States</td>\n",
       "      <td>Bikes</td>\n",
       "      <td>2</td>\n",
       "      <td>2171.0</td>\n",
       "      <td>3578.0</td>\n",
       "      <td>2814.0</td>\n",
       "      <td>4342.0</td>\n",
       "      <td>7156.0</td>\n",
       "    </tr>\n",
       "    <tr>\n",
       "      <th>18</th>\n",
       "      <td>04-01-17</td>\n",
       "      <td>4</td>\n",
       "      <td>January</td>\n",
       "      <td>2017</td>\n",
       "      <td>33</td>\n",
       "      <td>Young Adults (25-34)</td>\n",
       "      <td>1</td>\n",
       "      <td>F</td>\n",
       "      <td>France</td>\n",
       "      <td>Bikes</td>\n",
       "      <td>2</td>\n",
       "      <td>2171.0</td>\n",
       "      <td>3578.0</td>\n",
       "      <td>2814.0</td>\n",
       "      <td>4342.0</td>\n",
       "      <td>7156.0</td>\n",
       "    </tr>\n",
       "    <tr>\n",
       "      <th>20</th>\n",
       "      <td>04-01-17</td>\n",
       "      <td>4</td>\n",
       "      <td>January</td>\n",
       "      <td>2017</td>\n",
       "      <td>38</td>\n",
       "      <td>Adults (35-64)</td>\n",
       "      <td>1</td>\n",
       "      <td>F</td>\n",
       "      <td>United States</td>\n",
       "      <td>Bikes</td>\n",
       "      <td>2</td>\n",
       "      <td>2171.0</td>\n",
       "      <td>3578.0</td>\n",
       "      <td>2814.0</td>\n",
       "      <td>4342.0</td>\n",
       "      <td>7156.0</td>\n",
       "    </tr>\n",
       "    <tr>\n",
       "      <th>...</th>\n",
       "      <td>...</td>\n",
       "      <td>...</td>\n",
       "      <td>...</td>\n",
       "      <td>...</td>\n",
       "      <td>...</td>\n",
       "      <td>...</td>\n",
       "      <td>...</td>\n",
       "      <td>...</td>\n",
       "      <td>...</td>\n",
       "      <td>...</td>\n",
       "      <td>...</td>\n",
       "      <td>...</td>\n",
       "      <td>...</td>\n",
       "      <td>...</td>\n",
       "      <td>...</td>\n",
       "      <td>...</td>\n",
       "    </tr>\n",
       "    <tr>\n",
       "      <th>113011</th>\n",
       "      <td>29-12-21</td>\n",
       "      <td>29</td>\n",
       "      <td>December</td>\n",
       "      <td>2021</td>\n",
       "      <td>26</td>\n",
       "      <td>Young Adults (25-34)</td>\n",
       "      <td>1</td>\n",
       "      <td>F</td>\n",
       "      <td>United Kingdom</td>\n",
       "      <td>Bikes</td>\n",
       "      <td>3</td>\n",
       "      <td>1083.0</td>\n",
       "      <td>1701.0</td>\n",
       "      <td>1854.0</td>\n",
       "      <td>3249.0</td>\n",
       "      <td>5103.0</td>\n",
       "    </tr>\n",
       "    <tr>\n",
       "      <th>113016</th>\n",
       "      <td>29-12-21</td>\n",
       "      <td>29</td>\n",
       "      <td>December</td>\n",
       "      <td>2021</td>\n",
       "      <td>23</td>\n",
       "      <td>Youth (&lt;25)</td>\n",
       "      <td>1</td>\n",
       "      <td>F</td>\n",
       "      <td>France</td>\n",
       "      <td>Bikes</td>\n",
       "      <td>1</td>\n",
       "      <td>2171.0</td>\n",
       "      <td>3578.0</td>\n",
       "      <td>1407.0</td>\n",
       "      <td>2171.0</td>\n",
       "      <td>3578.0</td>\n",
       "    </tr>\n",
       "    <tr>\n",
       "      <th>113022</th>\n",
       "      <td>30-12-21</td>\n",
       "      <td>30</td>\n",
       "      <td>December</td>\n",
       "      <td>2021</td>\n",
       "      <td>23</td>\n",
       "      <td>Youth (&lt;25)</td>\n",
       "      <td>1</td>\n",
       "      <td>M</td>\n",
       "      <td>United Kingdom</td>\n",
       "      <td>Bikes</td>\n",
       "      <td>3</td>\n",
       "      <td>2171.0</td>\n",
       "      <td>3578.0</td>\n",
       "      <td>4221.0</td>\n",
       "      <td>6513.0</td>\n",
       "      <td>10734.0</td>\n",
       "    </tr>\n",
       "    <tr>\n",
       "      <th>113029</th>\n",
       "      <td>31-12-21</td>\n",
       "      <td>31</td>\n",
       "      <td>December</td>\n",
       "      <td>2021</td>\n",
       "      <td>32</td>\n",
       "      <td>Young Adults (25-34)</td>\n",
       "      <td>1</td>\n",
       "      <td>M</td>\n",
       "      <td>France</td>\n",
       "      <td>Bikes</td>\n",
       "      <td>4</td>\n",
       "      <td>2171.0</td>\n",
       "      <td>3578.0</td>\n",
       "      <td>5628.0</td>\n",
       "      <td>8684.0</td>\n",
       "      <td>14312.0</td>\n",
       "    </tr>\n",
       "    <tr>\n",
       "      <th>113030</th>\n",
       "      <td>31-12-21</td>\n",
       "      <td>31</td>\n",
       "      <td>December</td>\n",
       "      <td>2021</td>\n",
       "      <td>36</td>\n",
       "      <td>Adults (35-64)</td>\n",
       "      <td>1</td>\n",
       "      <td>F</td>\n",
       "      <td>Australia</td>\n",
       "      <td>Bikes</td>\n",
       "      <td>3</td>\n",
       "      <td>1266.0</td>\n",
       "      <td>2320.0</td>\n",
       "      <td>3162.0</td>\n",
       "      <td>3798.0</td>\n",
       "      <td>6960.0</td>\n",
       "    </tr>\n",
       "  </tbody>\n",
       "</table>\n",
       "<p>5146 rows × 16 columns</p>\n",
       "</div>"
      ],
      "text/plain": [
       "            Date  Day     Month  Year  Customer_Age             Age_Group  \\\n",
       "1       01-01-17    1   January  2017            23           Youth (<25)   \n",
       "2       01-01-17    1   January  2017            33  Young Adults (25-34)   \n",
       "12      03-01-17    3   January  2017            39        Adults (35-64)   \n",
       "18      04-01-17    4   January  2017            33  Young Adults (25-34)   \n",
       "20      04-01-17    4   January  2017            38        Adults (35-64)   \n",
       "...          ...  ...       ...   ...           ...                   ...   \n",
       "113011  29-12-21   29  December  2021            26  Young Adults (25-34)   \n",
       "113016  29-12-21   29  December  2021            23           Youth (<25)   \n",
       "113022  30-12-21   30  December  2021            23           Youth (<25)   \n",
       "113029  31-12-21   31  December  2021            32  Young Adults (25-34)   \n",
       "113030  31-12-21   31  December  2021            36        Adults (35-64)   \n",
       "\n",
       "        Age_Group_NUMBER Gender         Country Product_Category  \\\n",
       "1                      1      M       Australia            Bikes   \n",
       "2                      1      F          France            Bikes   \n",
       "12                     1      F   United States            Bikes   \n",
       "18                     1      F          France            Bikes   \n",
       "20                     1      F   United States            Bikes   \n",
       "...                  ...    ...             ...              ...   \n",
       "113011                 1      F  United Kingdom            Bikes   \n",
       "113016                 1      F          France            Bikes   \n",
       "113022                 1      M  United Kingdom            Bikes   \n",
       "113029                 1      M          France            Bikes   \n",
       "113030                 1      F       Australia            Bikes   \n",
       "\n",
       "        Order_Quantity  Unit_Cost  Unit_Price  Profit    Cost  Revenue  \n",
       "1                    2     1252.0      2295.0  2086.0  2504.0   4590.0  \n",
       "2                    2     2171.0      3578.0  2814.0  4342.0   7156.0  \n",
       "12                   2     2171.0      3578.0  2814.0  4342.0   7156.0  \n",
       "18                   2     2171.0      3578.0  2814.0  4342.0   7156.0  \n",
       "20                   2     2171.0      3578.0  2814.0  4342.0   7156.0  \n",
       "...                ...        ...         ...     ...     ...      ...  \n",
       "113011               3     1083.0      1701.0  1854.0  3249.0   5103.0  \n",
       "113016               1     2171.0      3578.0  1407.0  2171.0   3578.0  \n",
       "113022               3     2171.0      3578.0  4221.0  6513.0  10734.0  \n",
       "113029               4     2171.0      3578.0  5628.0  8684.0  14312.0  \n",
       "113030               3     1266.0      2320.0  3162.0  3798.0   6960.0  \n",
       "\n",
       "[5146 rows x 16 columns]"
      ]
     },
     "execution_count": 41,
     "metadata": {},
     "output_type": "execute_result"
    }
   ],
   "source": [
    "a[(a['Customer_Age']>22)&(a['Customer_Age']<24)|(a['Revenue']>5000)]"
   ]
  },
  {
   "cell_type": "markdown",
   "metadata": {},
   "source": [
    "Here we find the details of quantity ordered less than 5 and remove it. "
   ]
  },
  {
   "cell_type": "code",
   "execution_count": 44,
   "metadata": {},
   "outputs": [
    {
     "data": {
      "text/html": [
       "<div>\n",
       "<style scoped>\n",
       "    .dataframe tbody tr th:only-of-type {\n",
       "        vertical-align: middle;\n",
       "    }\n",
       "\n",
       "    .dataframe tbody tr th {\n",
       "        vertical-align: top;\n",
       "    }\n",
       "\n",
       "    .dataframe thead th {\n",
       "        text-align: right;\n",
       "    }\n",
       "</style>\n",
       "<table border=\"1\" class=\"dataframe\">\n",
       "  <thead>\n",
       "    <tr style=\"text-align: right;\">\n",
       "      <th></th>\n",
       "      <th>Date</th>\n",
       "      <th>Day</th>\n",
       "      <th>Month</th>\n",
       "      <th>Year</th>\n",
       "      <th>Customer_Age</th>\n",
       "      <th>Age_Group</th>\n",
       "      <th>Age_Group_NUMBER</th>\n",
       "      <th>Gender</th>\n",
       "      <th>Country</th>\n",
       "      <th>Product_Category</th>\n",
       "      <th>Order_Quantity</th>\n",
       "      <th>Unit_Cost</th>\n",
       "      <th>Unit_Price</th>\n",
       "      <th>Profit</th>\n",
       "      <th>Cost</th>\n",
       "      <th>Revenue</th>\n",
       "    </tr>\n",
       "  </thead>\n",
       "  <tbody>\n",
       "    <tr>\n",
       "      <th>4415</th>\n",
       "      <td>01-07-18</td>\n",
       "      <td>1</td>\n",
       "      <td>July</td>\n",
       "      <td>2018</td>\n",
       "      <td>33</td>\n",
       "      <td>Young Adults (25-34)</td>\n",
       "      <td>1</td>\n",
       "      <td>F</td>\n",
       "      <td>United States</td>\n",
       "      <td>Accessories</td>\n",
       "      <td>30</td>\n",
       "      <td>1.0</td>\n",
       "      <td>2.0</td>\n",
       "      <td>30.0</td>\n",
       "      <td>30.0</td>\n",
       "      <td>60.0</td>\n",
       "    </tr>\n",
       "    <tr>\n",
       "      <th>4416</th>\n",
       "      <td>01-07-18</td>\n",
       "      <td>1</td>\n",
       "      <td>July</td>\n",
       "      <td>2018</td>\n",
       "      <td>19</td>\n",
       "      <td>Youth (&lt;25)</td>\n",
       "      <td>1</td>\n",
       "      <td>F</td>\n",
       "      <td>Germany</td>\n",
       "      <td>Accessories</td>\n",
       "      <td>28</td>\n",
       "      <td>13.0</td>\n",
       "      <td>35.0</td>\n",
       "      <td>616.0</td>\n",
       "      <td>364.0</td>\n",
       "      <td>980.0</td>\n",
       "    </tr>\n",
       "    <tr>\n",
       "      <th>4417</th>\n",
       "      <td>01-07-18</td>\n",
       "      <td>1</td>\n",
       "      <td>July</td>\n",
       "      <td>2018</td>\n",
       "      <td>41</td>\n",
       "      <td>Adults (35-64)</td>\n",
       "      <td>1</td>\n",
       "      <td>M</td>\n",
       "      <td>Germany</td>\n",
       "      <td>Accessories</td>\n",
       "      <td>28</td>\n",
       "      <td>3.0</td>\n",
       "      <td>9.0</td>\n",
       "      <td>168.0</td>\n",
       "      <td>84.0</td>\n",
       "      <td>252.0</td>\n",
       "    </tr>\n",
       "    <tr>\n",
       "      <th>4418</th>\n",
       "      <td>01-07-18</td>\n",
       "      <td>1</td>\n",
       "      <td>July</td>\n",
       "      <td>2018</td>\n",
       "      <td>33</td>\n",
       "      <td>Young Adults (25-34)</td>\n",
       "      <td>1</td>\n",
       "      <td>F</td>\n",
       "      <td>United States</td>\n",
       "      <td>Accessories</td>\n",
       "      <td>24</td>\n",
       "      <td>1.0</td>\n",
       "      <td>2.0</td>\n",
       "      <td>24.0</td>\n",
       "      <td>24.0</td>\n",
       "      <td>48.0</td>\n",
       "    </tr>\n",
       "    <tr>\n",
       "      <th>4419</th>\n",
       "      <td>01-07-18</td>\n",
       "      <td>1</td>\n",
       "      <td>July</td>\n",
       "      <td>2018</td>\n",
       "      <td>37</td>\n",
       "      <td>Adults (35-64)</td>\n",
       "      <td>1</td>\n",
       "      <td>M</td>\n",
       "      <td>France</td>\n",
       "      <td>Accessories</td>\n",
       "      <td>24</td>\n",
       "      <td>8.0</td>\n",
       "      <td>21.0</td>\n",
       "      <td>312.0</td>\n",
       "      <td>192.0</td>\n",
       "      <td>504.0</td>\n",
       "    </tr>\n",
       "    <tr>\n",
       "      <th>...</th>\n",
       "      <td>...</td>\n",
       "      <td>...</td>\n",
       "      <td>...</td>\n",
       "      <td>...</td>\n",
       "      <td>...</td>\n",
       "      <td>...</td>\n",
       "      <td>...</td>\n",
       "      <td>...</td>\n",
       "      <td>...</td>\n",
       "      <td>...</td>\n",
       "      <td>...</td>\n",
       "      <td>...</td>\n",
       "      <td>...</td>\n",
       "      <td>...</td>\n",
       "      <td>...</td>\n",
       "      <td>...</td>\n",
       "    </tr>\n",
       "    <tr>\n",
       "      <th>111791</th>\n",
       "      <td>31-07-21</td>\n",
       "      <td>31</td>\n",
       "      <td>July</td>\n",
       "      <td>2021</td>\n",
       "      <td>39</td>\n",
       "      <td>Adults (35-64)</td>\n",
       "      <td>1</td>\n",
       "      <td>F</td>\n",
       "      <td>United States</td>\n",
       "      <td>Accessories</td>\n",
       "      <td>6</td>\n",
       "      <td>21.0</td>\n",
       "      <td>55.0</td>\n",
       "      <td>204.0</td>\n",
       "      <td>126.0</td>\n",
       "      <td>330.0</td>\n",
       "    </tr>\n",
       "    <tr>\n",
       "      <th>111792</th>\n",
       "      <td>31-07-21</td>\n",
       "      <td>31</td>\n",
       "      <td>July</td>\n",
       "      <td>2021</td>\n",
       "      <td>51</td>\n",
       "      <td>Adults (35-64)</td>\n",
       "      <td>1</td>\n",
       "      <td>M</td>\n",
       "      <td>Germany</td>\n",
       "      <td>Accessories</td>\n",
       "      <td>6</td>\n",
       "      <td>11.0</td>\n",
       "      <td>30.0</td>\n",
       "      <td>114.0</td>\n",
       "      <td>66.0</td>\n",
       "      <td>180.0</td>\n",
       "    </tr>\n",
       "    <tr>\n",
       "      <th>111793</th>\n",
       "      <td>31-07-21</td>\n",
       "      <td>31</td>\n",
       "      <td>July</td>\n",
       "      <td>2021</td>\n",
       "      <td>54</td>\n",
       "      <td>Adults (35-64)</td>\n",
       "      <td>1</td>\n",
       "      <td>M</td>\n",
       "      <td>canada</td>\n",
       "      <td>Accessories</td>\n",
       "      <td>6</td>\n",
       "      <td>2.0</td>\n",
       "      <td>5.0</td>\n",
       "      <td>18.0</td>\n",
       "      <td>12.0</td>\n",
       "      <td>30.0</td>\n",
       "    </tr>\n",
       "    <tr>\n",
       "      <th>111794</th>\n",
       "      <td>31-07-21</td>\n",
       "      <td>31</td>\n",
       "      <td>July</td>\n",
       "      <td>2021</td>\n",
       "      <td>36</td>\n",
       "      <td>Adults (35-64)</td>\n",
       "      <td>1</td>\n",
       "      <td>F</td>\n",
       "      <td>United States</td>\n",
       "      <td>Accessories</td>\n",
       "      <td>5</td>\n",
       "      <td>2.0</td>\n",
       "      <td>5.0</td>\n",
       "      <td>15.0</td>\n",
       "      <td>10.0</td>\n",
       "      <td>25.0</td>\n",
       "    </tr>\n",
       "    <tr>\n",
       "      <th>111795</th>\n",
       "      <td>31-07-21</td>\n",
       "      <td>31</td>\n",
       "      <td>July</td>\n",
       "      <td>2021</td>\n",
       "      <td>39</td>\n",
       "      <td>Adults (35-64)</td>\n",
       "      <td>1</td>\n",
       "      <td>F</td>\n",
       "      <td>United States</td>\n",
       "      <td>Accessories</td>\n",
       "      <td>5</td>\n",
       "      <td>3.0</td>\n",
       "      <td>8.0</td>\n",
       "      <td>25.0</td>\n",
       "      <td>15.0</td>\n",
       "      <td>40.0</td>\n",
       "    </tr>\n",
       "  </tbody>\n",
       "</table>\n",
       "<p>74182 rows × 16 columns</p>\n",
       "</div>"
      ],
      "text/plain": [
       "            Date  Day Month  Year  Customer_Age             Age_Group  \\\n",
       "4415    01-07-18    1  July  2018            33  Young Adults (25-34)   \n",
       "4416    01-07-18    1  July  2018            19           Youth (<25)   \n",
       "4417    01-07-18    1  July  2018            41        Adults (35-64)   \n",
       "4418    01-07-18    1  July  2018            33  Young Adults (25-34)   \n",
       "4419    01-07-18    1  July  2018            37        Adults (35-64)   \n",
       "...          ...  ...   ...   ...           ...                   ...   \n",
       "111791  31-07-21   31  July  2021            39        Adults (35-64)   \n",
       "111792  31-07-21   31  July  2021            51        Adults (35-64)   \n",
       "111793  31-07-21   31  July  2021            54        Adults (35-64)   \n",
       "111794  31-07-21   31  July  2021            36        Adults (35-64)   \n",
       "111795  31-07-21   31  July  2021            39        Adults (35-64)   \n",
       "\n",
       "        Age_Group_NUMBER Gender        Country Product_Category  \\\n",
       "4415                   1      F  United States      Accessories   \n",
       "4416                   1      F        Germany      Accessories   \n",
       "4417                   1      M        Germany      Accessories   \n",
       "4418                   1      F  United States      Accessories   \n",
       "4419                   1      M         France      Accessories   \n",
       "...                  ...    ...            ...              ...   \n",
       "111791                 1      F  United States      Accessories   \n",
       "111792                 1      M        Germany      Accessories   \n",
       "111793                 1      M         canada      Accessories   \n",
       "111794                 1      F  United States      Accessories   \n",
       "111795                 1      F  United States      Accessories   \n",
       "\n",
       "        Order_Quantity  Unit_Cost  Unit_Price  Profit   Cost  Revenue  \n",
       "4415                30        1.0         2.0    30.0   30.0     60.0  \n",
       "4416                28       13.0        35.0   616.0  364.0    980.0  \n",
       "4417                28        3.0         9.0   168.0   84.0    252.0  \n",
       "4418                24        1.0         2.0    24.0   24.0     48.0  \n",
       "4419                24        8.0        21.0   312.0  192.0    504.0  \n",
       "...                ...        ...         ...     ...    ...      ...  \n",
       "111791               6       21.0        55.0   204.0  126.0    330.0  \n",
       "111792               6       11.0        30.0   114.0   66.0    180.0  \n",
       "111793               6        2.0         5.0    18.0   12.0     30.0  \n",
       "111794               5        2.0         5.0    15.0   10.0     25.0  \n",
       "111795               5        3.0         8.0    25.0   15.0     40.0  \n",
       "\n",
       "[74182 rows x 16 columns]"
      ]
     },
     "execution_count": 44,
     "metadata": {},
     "output_type": "execute_result"
    }
   ],
   "source": [
    "b=a[~(a['Order_Quantity']<5)]\n",
    "b"
   ]
  },
  {
   "cell_type": "markdown",
   "metadata": {},
   "source": [
    "using this filtering we got the orders got from first date in this data"
   ]
  },
  {
   "cell_type": "code",
   "execution_count": 47,
   "metadata": {},
   "outputs": [
    {
     "name": "stdout",
     "output_type": "stream",
     "text": [
      "0    01-01-17\n",
      "1    01-01-17\n",
      "2    01-01-17\n",
      "3    01-01-17\n",
      "4    01-01-17\n",
      "5    01-01-18\n",
      "6    01-01-18\n",
      "7    01-01-18\n",
      "8    01-01-18\n",
      "9    01-01-18\n",
      "Name: Date, dtype: object\n"
     ]
    }
   ],
   "source": [
    "v=a.sort_values(['Date']).reset_index()\n",
    "c=pd.Series(v['Date'])\n",
    "print(c[0:10])\n"
   ]
  },
  {
   "cell_type": "markdown",
   "metadata": {},
   "source": [
    "## 15. Plotting and Visualizing"
   ]
  },
  {
   "cell_type": "markdown",
   "metadata": {},
   "source": [
    "# Scatter plot"
   ]
  },
  {
   "cell_type": "markdown",
   "metadata": {},
   "source": [
    "The scatter plots are plotted between product category and order quantity and we can see the plot below. With the plot given below, we can easily draw a trend line. These features provide a good scattering of points."
   ]
  },
  {
   "cell_type": "code",
   "execution_count": 49,
   "metadata": {},
   "outputs": [
    {
     "data": {
      "text/plain": [
       "<Axes: xlabel='Order_Quantity', ylabel='Product_Category'>"
      ]
     },
     "execution_count": 49,
     "metadata": {},
     "output_type": "execute_result"
    },
    {
     "data": {
      "image/png": "[encoded data removed]",
      "text/plain": [
       "<Figure size 640x480 with 1 Axes>"
      ]
     },
     "metadata": {},
     "output_type": "display_data"
    }
   ],
   "source": [
    "sns.scatterplot(data=a,x=a['Order_Quantity'],y=a['Product_Category'])"
   ]
  },
  {
   "cell_type": "markdown",
   "metadata": {},
   "source": [
    "# Bar plot"
   ]
  },
  {
   "cell_type": "markdown",
   "metadata": {},
   "source": [
    "look this , it shows the relations with product category and profit"
   ]
  },
  {
   "cell_type": "code",
   "execution_count": 52,
   "metadata": {},
   "outputs": [
    {
     "data": {
      "text/plain": [
       "<Axes: xlabel='Product_Category', ylabel='Profit'>"
      ]
     },
     "execution_count": 52,
     "metadata": {},
     "output_type": "execute_result"
    },
    {
     "data": {
      "image/png": "[encoded data removed]",
      "text/plain": [
       "<Figure size 640x480 with 1 Axes>"
      ]
     },
     "metadata": {},
     "output_type": "display_data"
    }
   ],
   "source": [
    "sns.barplot(data=a,x=a['Product_Category'],y=a['Profit'])"
   ]
  },
  {
   "cell_type": "markdown",
   "metadata": {},
   "source": [
    "# Box plot"
   ]
  },
  {
   "cell_type": "markdown",
   "metadata": {},
   "source": [
    "Let’s look at the relationship between “Revenue” and “product category”."
   ]
  },
  {
   "cell_type": "code",
   "execution_count": 77,
   "metadata": {},
   "outputs": [
    {
     "data": {
      "image/png": "[encoded data removed]",
      "text/plain": [
       "<Figure size 640x480 with 1 Axes>"
      ]
     },
     "metadata": {},
     "output_type": "display_data"
    }
   ],
   "source": [
    "sns.boxplot(data=a,x='Product_Category',y='Revenue')\n",
    "sns.set_style(\"ticks\")"
   ]
  },
  {
   "cell_type": "markdown",
   "metadata": {},
   "source": [
    "# Line plot"
   ]
  },
  {
   "cell_type": "markdown",
   "metadata": {},
   "source": [
    "it represents the quantity ordered and revenue through the lineplot,and clearly we can visualize the status of the data"
   ]
  },
  {
   "cell_type": "code",
   "execution_count": 71,
   "metadata": {},
   "outputs": [
    {
     "data": {
      "text/plain": [
       "<Axes: xlabel='Revenue', ylabel='Order_Quantity'>"
      ]
     },
     "execution_count": 71,
     "metadata": {},
     "output_type": "execute_result"
    },
    {
     "data": {
      "image/png": "[encoded data removed]",
      "text/plain": [
       "<Figure size 640x480 with 1 Axes>"
      ]
     },
     "metadata": {},
     "output_type": "display_data"
    }
   ],
   "source": [
    "sns.lineplot(data=a,x=a['Revenue'],y=a['Order_Quantity'])"
   ]
  },
  {
   "cell_type": "markdown",
   "metadata": {},
   "source": [
    "We see that the distributions of price and the different deal size categories have significant overlap."
   ]
  },
  {
   "cell_type": "markdown",
   "metadata": {},
   "source": [
    "\n",
    "\n",
    "### **The above steps that were carried out are the steps involved in Exploratory data analysis. I was able to explore and visualize data as per the requirements.**"
   ]
  },
  {
   "cell_type": "markdown",
   "metadata": {},
   "source": [
    "## THANK YOU"
   ]
  }
 ],
 "metadata": {
  "kernelspec": {
   "display_name": "Python 3",
   "language": "python",
   "name": "python3"
  },
  "language_info": {
   "codemirror_mode": {
    "name": "ipython",
    "version": 3
   },
   "file_extension": ".py",
   "mimetype": "text/x-python",
   "name": "python",
   "nbconvert_exporter": "python",
   "pygments_lexer": "ipython3",
   "version": "3.11.5"
  }
 },
 "nbformat": 4,
 "nbformat_minor": 2
}
